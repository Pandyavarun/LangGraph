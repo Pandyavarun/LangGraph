{
 "cells": [
  {
   "cell_type": "code",
   "execution_count": 1,
   "id": "1929b70f",
   "metadata": {},
   "outputs": [],
   "source": [
    "from pydantic import BaseModel, Field"
   ]
  },
  {
   "cell_type": "code",
   "execution_count": 9,
   "id": "8e85f132",
   "metadata": {},
   "outputs": [
    {
     "name": "stdout",
     "output_type": "stream",
     "text": [
      "name='Alice' age=30 city='Indore'\n"
     ]
    }
   ],
   "source": [
    "class Person(BaseModel):\n",
    "    name: str\n",
    "    age: int\n",
    "    city: str\n",
    "\n",
    "person=Person(name=\"Alice\", age=30, city=\"Indore\")\n",
    "print(person)"
   ]
  },
  {
   "cell_type": "code",
   "execution_count": 4,
   "id": "20b9870f",
   "metadata": {},
   "outputs": [
    {
     "data": {
      "text/plain": [
       "__main__.Person"
      ]
     },
     "execution_count": 4,
     "metadata": {},
     "output_type": "execute_result"
    }
   ],
   "source": [
    "type(person)"
   ]
  },
  {
   "cell_type": "markdown",
   "id": "0e61b6d7",
   "metadata": {},
   "source": [
    "#### Model with optional fields"
   ]
  },
  {
   "cell_type": "code",
   "execution_count": 10,
   "id": "46a1c2f6",
   "metadata": {},
   "outputs": [],
   "source": [
    "from typing import Optional\n",
    "\n",
    "class Employee(BaseModel):\n",
    "    name: str\n",
    "    id: int\n",
    "    departmant: str\n",
    "    salary: Optional[float] = None  # Optional field with default value None\n",
    "    is_active: Optional[bool] = True  # Optional field with default value True"
   ]
  },
  {
   "cell_type": "code",
   "execution_count": 11,
   "id": "7ac562d2",
   "metadata": {},
   "outputs": [
    {
     "name": "stdout",
     "output_type": "stream",
     "text": [
      "name='Bob' id=101 departmant='HR' salary=None is_active=True\n"
     ]
    }
   ],
   "source": [
    "emp1 = Employee(name=\"Bob\", id=101, departmant=\"HR\")\n",
    "print(emp1)"
   ]
  },
  {
   "cell_type": "code",
   "execution_count": 12,
   "id": "0e9d8c16",
   "metadata": {},
   "outputs": [
    {
     "name": "stdout",
     "output_type": "stream",
     "text": [
      "name='Charlie' id=102 departmant='IT' salary=75000.0 is_active=False\n"
     ]
    }
   ],
   "source": [
    "emp2 = Employee(name=\"Charlie\", id=102, departmant=\"IT\", salary=75000.0, is_active=False)\n",
    "print(emp2)"
   ]
  },
  {
   "cell_type": "code",
   "execution_count": 13,
   "id": "787c4a85",
   "metadata": {},
   "outputs": [],
   "source": [
    "from pydantic import BaseModel\n",
    "from typing import List\n",
    "\n",
    "class Classroom(BaseModel):\n",
    "    room_number: str\n",
    "    students: List[str]  # List of strings\n",
    "    capacity: int\n"
   ]
  },
  {
   "cell_type": "code",
   "execution_count": 14,
   "id": "0a8c280e",
   "metadata": {},
   "outputs": [
    {
     "name": "stdout",
     "output_type": "stream",
     "text": [
      "room_number='A101' students=['Alice', 'Bob', 'Charlie'] capacity=30\n"
     ]
    }
   ],
   "source": [
    "classroom = Classroom(room_number=\"A101\", students=[\"Alice\", \"Bob\", \"Charlie\"], capacity=30)\n",
    "print(classroom)"
   ]
  },
  {
   "cell_type": "code",
   "execution_count": 15,
   "id": "a0bc4ea4",
   "metadata": {},
   "outputs": [
    {
     "name": "stdout",
     "output_type": "stream",
     "text": [
      "Validation Error: 1 validation error for Classroom\n",
      "students.1\n",
      "  Input should be a valid string [type=string_type, input_value=123, input_type=int]\n",
      "    For further information visit https://errors.pydantic.dev/2.11/v/string_type\n"
     ]
    }
   ],
   "source": [
    "try:\n",
    "    invalid_val = Classroom(room_number=\"B202\", students=[\"Dave\", 123], capacity=30)\n",
    "except ValueError as e:\n",
    "    print(\"Validation Error:\", e)"
   ]
  },
  {
   "cell_type": "markdown",
   "id": "c07d89e8",
   "metadata": {},
   "source": [
    "#### Model with Nested Models"
   ]
  },
  {
   "cell_type": "code",
   "execution_count": 16,
   "id": "9cc515f3",
   "metadata": {},
   "outputs": [
    {
     "name": "stdout",
     "output_type": "stream",
     "text": [
      "customer_id=1 name='Eve' address=Address(street='123 Main St', city='Metropolis', zip_code='12345')\n"
     ]
    }
   ],
   "source": [
    "from pydantic import BaseModel\n",
    "\n",
    "class Address(BaseModel):\n",
    "    street: str\n",
    "    city: str\n",
    "    zip_code: str\n",
    "\n",
    "class Customer(BaseModel):\n",
    "    customer_id: int\n",
    "    name: str\n",
    "    address: Address  # Nested model\n",
    "\n",
    "customer = Customer(\n",
    "    customer_id=1,\n",
    "    name=\"Eve\",\n",
    "    address=Address(street=\"123 Main St\", city=\"Metropolis\", zip_code=\"12345\")\n",
    ")\n",
    "print(customer)"
   ]
  },
  {
   "cell_type": "markdown",
   "id": "05fabd60",
   "metadata": {},
   "source": [
    "#### Pydantic Fields: Customization and Constraints\n",
    "\n",
    "The field function in Pydantic enhances model fields beyond basic type hints by allowing you to specify validation rules, default values, aliases, and more. Here's a comprehensive tutorial with examples."
   ]
  },
  {
   "cell_type": "code",
   "execution_count": 18,
   "id": "0884f543",
   "metadata": {},
   "outputs": [
    {
     "name": "stdout",
     "output_type": "stream",
     "text": [
      "name='Laptop' price=999.99 quantity=5\n"
     ]
    }
   ],
   "source": [
    "from pydantic import BaseModel, Field\n",
    "\n",
    "class Item(BaseModel):\n",
    "    name: str = Field(min_length=2, max_length=50)\n",
    "    price: float = Field(..., gt=0, description=\"Price must be greater than zero\")\n",
    "    quantity: int = Field(gt=0)\n",
    "\n",
    "item = Item(name=\"Laptop\", price=999.99, quantity=5)\n",
    "print(item)"
   ]
  },
  {
   "cell_type": "code",
   "execution_count": 19,
   "id": "e767729c",
   "metadata": {},
   "outputs": [
    {
     "name": "stdout",
     "output_type": "stream",
     "text": [
      "username='john_doe' email='user@example.com' age=18\n",
      "username='jane_doe' email='jane@google.com' age=18\n"
     ]
    }
   ],
   "source": [
    "from pydantic import BaseModel, Field\n",
    "\n",
    "class User(BaseModel):\n",
    "    username: str = Field(..., description=\"Unique username for the user\")\n",
    "    email: str = Field(default_factory=lambda: \"user@example.com\", description=\"Default email address\")\n",
    "    age: Optional[int] = Field(default=18, description=\"User's age, default is 18\")\n",
    "\n",
    "user1 = User(username=\"john_doe\")\n",
    "print(user1)\n",
    "\n",
    "user2 = User(username=\"jane_doe\", email=\"jane@google.com\")\n",
    "print(user2)"
   ]
  },
  {
   "cell_type": "code",
   "execution_count": 21,
   "id": "b578926e",
   "metadata": {},
   "outputs": [
    {
     "name": "stdout",
     "output_type": "stream",
     "text": [
      "{'properties': {'username': {'description': 'Unique username for the user', 'title': 'Username', 'type': 'string'}, 'email': {'description': 'Default email address', 'title': 'Email', 'type': 'string'}, 'age': {'anyOf': [{'type': 'integer'}, {'type': 'null'}], 'default': 18, 'description': \"User's age, default is 18\", 'title': 'Age'}}, 'required': ['username'], 'title': 'User', 'type': 'object'}\n"
     ]
    }
   ],
   "source": [
    "print(User.model_json_schema())"
   ]
  },
  {
   "cell_type": "code",
   "execution_count": null,
   "id": "5f08ea36",
   "metadata": {},
   "outputs": [],
   "source": []
  }
 ],
 "metadata": {
  "kernelspec": {
   "display_name": "venv",
   "language": "python",
   "name": "python3"
  },
  "language_info": {
   "codemirror_mode": {
    "name": "ipython",
    "version": 3
   },
   "file_extension": ".py",
   "mimetype": "text/x-python",
   "name": "python",
   "nbconvert_exporter": "python",
   "pygments_lexer": "ipython3",
   "version": "3.13.7"
  }
 },
 "nbformat": 4,
 "nbformat_minor": 5
}
