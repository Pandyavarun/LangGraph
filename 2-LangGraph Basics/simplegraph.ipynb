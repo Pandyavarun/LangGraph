{
 "cells": [
  {
   "cell_type": "markdown",
   "id": "4eda3858",
   "metadata": {},
   "source": [
    "### Build a Simple state graph using LangGraph\n",
    "#### State\n",
    "\n",
    "First, define the state of the graph.\n",
    "The state schema serves as the input schema for all nodes and edges in the graph.\n",
    "Let's use the TypedDict class from python's typing module as our schema, which provides type hints for the keys."
   ]
  },
  {
   "cell_type": "code",
   "execution_count": 2,
   "id": "1259842c",
   "metadata": {},
   "outputs": [],
   "source": [
    "from typing_extensions import TypedDict\n",
    "\n",
    "class State(TypedDict):\n",
    "    graph_info: str"
   ]
  },
  {
   "cell_type": "code",
   "execution_count": 4,
   "id": "e7b74308",
   "metadata": {},
   "outputs": [],
   "source": [
    "# Node functions\n",
    "\n",
    "def start_play(state: State):\n",
    "    print(\"Start play node has been called\")\n",
    "    return {\"graph_info\": state[\"graph_info\"] + \" I am planning to play\"}\n",
    "\n",
    "def cricket(state: State):\n",
    "    print(\"Cricket node has been called\")\n",
    "    return {\"graph_info\": state[\"graph_info\"] + \" Cricket\"}\n",
    "\n",
    "def football(state: State):\n",
    "    print(\"Football node has been called\")\n",
    "    return {\"graph_info\": state[\"graph_info\"] + \" Football\"}"
   ]
  },
  {
   "cell_type": "code",
   "execution_count": 5,
   "id": "6c79669b",
   "metadata": {},
   "outputs": [],
   "source": [
    "import random\n",
    "from typing import Literal\n",
    "\n",
    "def random_play(state: State) -> Literal[\"cricket\", \"football\"]:\n",
    "   if random.random() > 0.5:\n",
    "       return \"cricket\"\n",
    "   else:\n",
    "       return \"football\""
   ]
  },
  {
   "cell_type": "code",
   "execution_count": 9,
   "id": "3459fef7",
   "metadata": {},
   "outputs": [
    {
     "data": {
      "image/png": "[encoded data removed]",
      "text/plain": [
       "<IPython.core.display.Image object>"
      ]
     },
     "metadata": {},
     "output_type": "display_data"
    }
   ],
   "source": [
    "from IPython.display import display, Image\n",
    "from langgraph.graph import StateGraph, START, END\n",
    "\n",
    "# Define the graph\n",
    "graph = StateGraph(State)\n",
    "\n",
    "# Add nodes\n",
    "graph.add_node(\"start_play\", start_play)\n",
    "graph.add_node(\"cricket\", cricket)\n",
    "graph.add_node(\"football\", football)\n",
    "\n",
    "#schedule flow of graph\n",
    "graph.add_edge(START, \"start_play\")\n",
    "graph.add_conditional_edges(\"start_play\", random_play, {\"cricket\": \"cricket\", \"football\": \"football\"})\n",
    "graph.add_edge(\"cricket\", END)\n",
    "graph.add_edge(\"football\", END)\n",
    "\n",
    "#compile the graph\n",
    "\n",
    "graph_builder = graph.compile()\n",
    "\n",
    "#view\n",
    "display(Image(graph_builder.get_graph().draw_mermaid_png()))"
   ]
  },
  {
   "cell_type": "code",
   "execution_count": 12,
   "id": "6b3c0627",
   "metadata": {},
   "outputs": [
    {
     "name": "stdout",
     "output_type": "stream",
     "text": [
      "Start play node has been called\n",
      "Football node has been called\n"
     ]
    },
    {
     "data": {
      "text/plain": [
       "{'graph_info': 'Today I want to play I am planning to play Football'}"
      ]
     },
     "execution_count": 12,
     "metadata": {},
     "output_type": "execute_result"
    }
   ],
   "source": [
    "graph_builder.invoke({\"graph_info\": \"Today I want to play\"})"
   ]
  },
  {
   "cell_type": "code",
   "execution_count": null,
   "id": "6bec0927",
   "metadata": {},
   "outputs": [],
   "source": []
  }
 ],
 "metadata": {
  "kernelspec": {
   "display_name": "venv",
   "language": "python",
   "name": "python3"
  },
  "language_info": {
   "codemirror_mode": {
    "name": "ipython",
    "version": 3
   },
   "file_extension": ".py",
   "mimetype": "text/x-python",
   "name": "python",
   "nbconvert_exporter": "python",
   "pygments_lexer": "ipython3",
   "version": "3.13.7"
  }
 },
 "nbformat": 4,
 "nbformat_minor": 5
}
